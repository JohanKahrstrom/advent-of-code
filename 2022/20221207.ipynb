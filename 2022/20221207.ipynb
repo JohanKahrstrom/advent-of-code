{
 "cells": [
  {
   "cell_type": "code",
   "execution_count": 1,
   "id": "bb735b36",
   "metadata": {},
   "outputs": [],
   "source": [
    "from aoc import read_file"
   ]
  },
  {
   "cell_type": "code",
   "execution_count": 188,
   "id": "7e1aa6f5",
   "metadata": {},
   "outputs": [],
   "source": [
    "lines = read_file('20221207.txt').split('\\n')\n",
    "\n",
    "commands = [line.split(' ') for line in lines]"
   ]
  },
  {
   "cell_type": "code",
   "execution_count": 189,
   "id": "9d00b3f7",
   "metadata": {},
   "outputs": [],
   "source": [
    "import json\n",
    "\n",
    "def parse_commands(commands):\n",
    "    i = 1\n",
    "\n",
    "    root = {\n",
    "        'name': '/',\n",
    "        'path': '/',\n",
    "        'type': 'dir',\n",
    "        'contents': {}\n",
    "    }\n",
    "\n",
    "    dir_stack = [root]\n",
    "\n",
    "    current_dir = root\n",
    "\n",
    "    while i < len(lines):\n",
    "        command = commands[i]\n",
    "        if command[0] != '$':\n",
    "            raise Exception('Should see command: {lines[index]}')\n",
    "        if command[1] == 'cd':\n",
    "            if command[2] == '..':\n",
    "                current_dir = dir_stack.pop()\n",
    "            else:\n",
    "                directory_name = command[2]\n",
    "                dir_stack.append(current_dir)\n",
    "                current_dir = current_dir['contents'][directory_name]\n",
    "        elif command[1] == 'ls':\n",
    "            while i+1 < len(commands) and commands[i+1][0] != '$':\n",
    "                i += 1\n",
    "                if commands[i][0] == 'dir':\n",
    "                    directory_name = commands[i][1]\n",
    "                    current_dir['contents'][directory_name] = {\n",
    "                        'name': directory_name,\n",
    "                        'path': current_dir['path'] + '/' + directory_name,\n",
    "                        'type': 'dir',\n",
    "                        'contents': {}\n",
    "                    }\n",
    "                else:\n",
    "                    size = int(commands[i][0])\n",
    "                    file_name = commands[i][1]\n",
    "                    current_dir['contents'][file_name] = {\n",
    "                        'name': file_name,\n",
    "                        'type': 'file',\n",
    "                        'size': size\n",
    "                    }\n",
    "        i += 1\n",
    "\n",
    "    return root"
   ]
  },
  {
   "cell_type": "code",
   "execution_count": 203,
   "id": "be75dc5e",
   "metadata": {},
   "outputs": [],
   "source": [
    "directory_tree = parse_commands(commands)"
   ]
  },
  {
   "cell_type": "code",
   "execution_count": 197,
   "id": "b4e91945",
   "metadata": {},
   "outputs": [],
   "source": [
    "def get_directory_sizes(directory):\n",
    "    sizes = {\n",
    "        'name': directory['name'],\n",
    "        'path': directory['path'],\n",
    "        'contents': {}\n",
    "    }\n",
    "    \n",
    "    dir_size = 0\n",
    "    \n",
    "    for name, content_file in directory['contents'].items():\n",
    "        if content_file['type'] == 'file':\n",
    "            dir_size += content_file['size']\n",
    "        else:\n",
    "            subdir_size = get_directory_sizes(content_file)\n",
    "            sizes['contents'][name] = subdir_size\n",
    "            dir_size += subdir_size['size']\n",
    "\n",
    "    sizes['size'] = dir_size\n",
    "    return sizes"
   ]
  },
  {
   "cell_type": "code",
   "execution_count": 199,
   "id": "1c4b98b3",
   "metadata": {},
   "outputs": [],
   "source": [
    "directory_sizes = get_directory_sizes(directory_tree)"
   ]
  },
  {
   "cell_type": "code",
   "execution_count": 193,
   "id": "77e82291",
   "metadata": {},
   "outputs": [],
   "source": [
    "def get_directory_size_map(directory_sizes):\n",
    "    size_map = {}\n",
    "    \n",
    "    def get_directory_size_map_rec(directory):\n",
    "        size_map[directory['path']] = directory['size']\n",
    "        for sub_dir in directory['contents'].values():\n",
    "            get_directory_size_map_rec(sub_dir)\n",
    "    \n",
    "    get_directory_size_map_rec(directory_sizes)\n",
    "    \n",
    "    return size_map"
   ]
  },
  {
   "cell_type": "code",
   "execution_count": 200,
   "id": "fbb0970c",
   "metadata": {},
   "outputs": [],
   "source": [
    "size_map = get_directory_size_map(directory_sizes)"
   ]
  },
  {
   "cell_type": "code",
   "execution_count": 201,
   "id": "5bd53142",
   "metadata": {},
   "outputs": [
    {
     "data": {
      "text/plain": [
       "1491614"
      ]
     },
     "execution_count": 201,
     "metadata": {},
     "output_type": "execute_result"
    }
   ],
   "source": [
    "sum([size for path, size in size_map.items() if size <= 100000])"
   ]
  },
  {
   "cell_type": "code",
   "execution_count": 202,
   "id": "82fdd589",
   "metadata": {},
   "outputs": [
    {
     "name": "stdout",
     "output_type": "stream",
     "text": [
      "6400111\n"
     ]
    }
   ],
   "source": [
    "available_space = 40000000\n",
    "\n",
    "used_space = size_map['/']\n",
    "\n",
    "required_space = used_space - available_space\n",
    "\n",
    "for size in sorted([size for path, size in size_map.items()]):\n",
    "    if size < required_space:\n",
    "        continue\n",
    "    else:\n",
    "        print(size)\n",
    "        break"
   ]
  },
  {
   "cell_type": "code",
   "execution_count": null,
   "id": "4f406a39",
   "metadata": {},
   "outputs": [],
   "source": []
  },
  {
   "cell_type": "code",
   "execution_count": null,
   "id": "b7258982",
   "metadata": {},
   "outputs": [],
   "source": []
  },
  {
   "cell_type": "code",
   "execution_count": null,
   "id": "c851bab2",
   "metadata": {},
   "outputs": [],
   "source": []
  },
  {
   "cell_type": "code",
   "execution_count": null,
   "id": "e1d14009",
   "metadata": {},
   "outputs": [],
   "source": []
  },
  {
   "cell_type": "code",
   "execution_count": null,
   "id": "601b7c64",
   "metadata": {},
   "outputs": [],
   "source": []
  },
  {
   "cell_type": "code",
   "execution_count": null,
   "id": "a2b8e7df",
   "metadata": {},
   "outputs": [],
   "source": []
  }
 ],
 "metadata": {
  "kernelspec": {
   "display_name": "Python 3 (ipykernel)",
   "language": "python",
   "name": "python3"
  },
  "language_info": {
   "codemirror_mode": {
    "name": "ipython",
    "version": 3
   },
   "file_extension": ".py",
   "mimetype": "text/x-python",
   "name": "python",
   "nbconvert_exporter": "python",
   "pygments_lexer": "ipython3",
   "version": "3.9.13"
  }
 },
 "nbformat": 4,
 "nbformat_minor": 5
}
