{
 "cells": [
  {
   "cell_type": "code",
   "execution_count": 1,
   "id": "bb735b36",
   "metadata": {},
   "outputs": [],
   "source": [
    "from aoc import read_file"
   ]
  },
  {
   "cell_type": "code",
   "execution_count": 302,
   "id": "7e1aa6f5",
   "metadata": {},
   "outputs": [],
   "source": [
    "lines = read_file('20221207_test.txt').split('\\n')\n",
    "\n",
    "commands = [line.split(' ') for line in lines]"
   ]
  },
  {
   "cell_type": "code",
   "execution_count": 189,
   "id": "9d00b3f7",
   "metadata": {},
   "outputs": [],
   "source": [
    "import json\n",
    "\n",
    "def parse_commands(commands):\n",
    "    i = 1\n",
    "\n",
    "    root = {\n",
    "        'name': '/',\n",
    "        'path': '/',\n",
    "        'type': 'dir',\n",
    "        'contents': {}\n",
    "    }\n",
    "\n",
    "    dir_stack = [root]\n",
    "\n",
    "    current_dir = root\n",
    "\n",
    "    while i < len(lines):\n",
    "        command = commands[i]\n",
    "        if command[0] != '$':\n",
    "            raise Exception('Should see command: {lines[index]}')\n",
    "        if command[1] == 'cd':\n",
    "            if command[2] == '..':\n",
    "                current_dir = dir_stack.pop()\n",
    "            else:\n",
    "                directory_name = command[2]\n",
    "                dir_stack.append(current_dir)\n",
    "                current_dir = current_dir['contents'][directory_name]\n",
    "        elif command[1] == 'ls':\n",
    "            while i+1 < len(commands) and commands[i+1][0] != '$':\n",
    "                i += 1\n",
    "                if commands[i][0] == 'dir':\n",
    "                    directory_name = commands[i][1]\n",
    "                    current_dir['contents'][directory_name] = {\n",
    "                        'name': directory_name,\n",
    "                        'path': current_dir['path'] + '/' + directory_name,\n",
    "                        'type': 'dir',\n",
    "                        'contents': {}\n",
    "                    }\n",
    "                else:\n",
    "                    size = int(commands[i][0])\n",
    "                    file_name = commands[i][1]\n",
    "                    current_dir['contents'][file_name] = {\n",
    "                        'name': file_name,\n",
    "                        'type': 'file',\n",
    "                        'size': size\n",
    "                    }\n",
    "        i += 1\n",
    "\n",
    "    return root"
   ]
  },
  {
   "cell_type": "code",
   "execution_count": 203,
   "id": "be75dc5e",
   "metadata": {},
   "outputs": [],
   "source": [
    "directory_tree = parse_commands(commands)"
   ]
  },
  {
   "cell_type": "code",
   "execution_count": 220,
   "id": "b4e91945",
   "metadata": {},
   "outputs": [],
   "source": [
    "def get_directory_sizes(directory):\n",
    "    sizes = {\n",
    "        'name': directory['name'],\n",
    "        'path': directory['path'],\n",
    "        'contents': {}\n",
    "    }\n",
    "    \n",
    "    dir_size = 0\n",
    "    \n",
    "    for name, content_file in directory['contents'].items():\n",
    "        if content_file['type'] == 'file':\n",
    "            dir_size += content_file['size']\n",
    "        else:\n",
    "            subdir_size = get_directory_sizes(content_file)\n",
    "            sizes['contents'][name] = subdir_size\n",
    "            dir_size += subdir_size['size']\n",
    "\n",
    "    sizes['size'] = dir_size\n",
    "    return sizes"
   ]
  },
  {
   "cell_type": "code",
   "execution_count": null,
   "id": "0ce8ee75",
   "metadata": {},
   "outputs": [],
   "source": []
  },
  {
   "cell_type": "code",
   "execution_count": 248,
   "id": "1c4b98b3",
   "metadata": {},
   "outputs": [],
   "source": [
    "directory_sizes = get_directory_sizes(directory_tree)"
   ]
  },
  {
   "cell_type": "code",
   "execution_count": 249,
   "id": "77e82291",
   "metadata": {},
   "outputs": [],
   "source": [
    "def get_directory_size_map(directory_sizes):\n",
    "    ret = {\n",
    "        directory_sizes['path']: directory_sizes['size']\n",
    "    }\n",
    "    for sub_dir in directory_sizes['contents'].values():\n",
    "        ret = {**ret, **get_directory_size_map2(sub_dir)}\n",
    "    return ret"
   ]
  },
  {
   "cell_type": "code",
   "execution_count": null,
   "id": "7746a963",
   "metadata": {},
   "outputs": [],
   "source": []
  },
  {
   "cell_type": "code",
   "execution_count": 251,
   "id": "fbb0970c",
   "metadata": {},
   "outputs": [],
   "source": [
    "size_map = get_directory_size_map2(directory_sizes)"
   ]
  },
  {
   "cell_type": "code",
   "execution_count": 252,
   "id": "5bd53142",
   "metadata": {},
   "outputs": [
    {
     "data": {
      "text/plain": [
       "1491614"
      ]
     },
     "execution_count": 252,
     "metadata": {},
     "output_type": "execute_result"
    }
   ],
   "source": [
    "sum([size for path, size in size_map.items() if size <= 100000])"
   ]
  },
  {
   "cell_type": "code",
   "execution_count": 299,
   "id": "82fdd589",
   "metadata": {},
   "outputs": [
    {
     "name": "stdout",
     "output_type": "stream",
     "text": [
      "6400111\n"
     ]
    }
   ],
   "source": [
    "available_space = 40000000\n",
    "\n",
    "used_space = size_map['/']\n",
    "\n",
    "required_space = used_space - available_space\n",
    "\n",
    "for size in sorted([size for path, size in size_map.items()]):\n",
    "    if size < required_space:\n",
    "        continue\n",
    "    else:\n",
    "        print(size)\n",
    "        break\n"
   ]
  },
  {
   "cell_type": "markdown",
   "id": "120e01f8",
   "metadata": {},
   "source": [
    "# Alternative version, inspired by Peter's solution"
   ]
  },
  {
   "cell_type": "code",
   "execution_count": 270,
   "id": "04082944",
   "metadata": {},
   "outputs": [],
   "source": [
    "# The function is called ls_r as an analogy to the bash command ls -r *\n",
    "def ls_r(commands):\n",
    "    stack = []\n",
    "    for command in commands:\n",
    "        if command[0] == '$':\n",
    "            if command[1] == 'cd':\n",
    "                if command[2] == '..':\n",
    "                    stack.pop()\n",
    "                else:\n",
    "                    stack.append(command[2])\n",
    "            # Don't care about catching ls\n",
    "        elif command[0] == 'dir':\n",
    "            pass\n",
    "        else:\n",
    "            # This is a file, so save the full path along with the file size\n",
    "            yield (' '.join(stack), int(command[0]))\n"
   ]
  },
  {
   "cell_type": "code",
   "execution_count": 271,
   "id": "49bd9ffb",
   "metadata": {},
   "outputs": [
    {
     "data": {
      "text/plain": [
       "[('/', 14848514),\n",
       " ('/', 8504156),\n",
       " ('/ a', 29116),\n",
       " ('/ a', 2557),\n",
       " ('/ a', 62596),\n",
       " ('/ a e', 584),\n",
       " ('/ d', 4060174),\n",
       " ('/ d', 8033020),\n",
       " ('/ d', 5626152),\n",
       " ('/ d', 7214296)]"
      ]
     },
     "execution_count": 271,
     "metadata": {},
     "output_type": "execute_result"
    }
   ],
   "source": [
    "list(ls_r(commands))"
   ]
  },
  {
   "cell_type": "code",
   "execution_count": 311,
   "id": "ffa6d06e",
   "metadata": {},
   "outputs": [],
   "source": [
    "def expand_path(path):\n",
    "    path_split = path.split(' ')\n",
    "    for i in range(len(path_split)):\n",
    "        yield ' '.join(path_split[:i+1])"
   ]
  },
  {
   "cell_type": "code",
   "execution_count": 312,
   "id": "a5a7b18a",
   "metadata": {},
   "outputs": [
    {
     "data": {
      "text/plain": [
       "[('/', 14848514),\n",
       " ('/', 8504156),\n",
       " ('/', 29116),\n",
       " ('/ a', 29116),\n",
       " ('/', 2557),\n",
       " ('/ a', 2557),\n",
       " ('/', 62596),\n",
       " ('/ a', 62596),\n",
       " ('/', 584),\n",
       " ('/ a', 584),\n",
       " ('/ a e', 584),\n",
       " ('/', 4060174),\n",
       " ('/ d', 4060174),\n",
       " ('/', 8033020),\n",
       " ('/ d', 8033020),\n",
       " ('/', 5626152),\n",
       " ('/ d', 5626152),\n",
       " ('/', 7214296),\n",
       " ('/ d', 7214296)]"
      ]
     },
     "execution_count": 312,
     "metadata": {},
     "output_type": "execute_result"
    }
   ],
   "source": [
    "[\n",
    "    (expanded_path, size)\n",
    "    for path, size in ls_r(commands)\n",
    "    for expanded_path in expand_path(path)\n",
    "]"
   ]
  },
  {
   "cell_type": "code",
   "execution_count": 307,
   "id": "50b53620",
   "metadata": {},
   "outputs": [],
   "source": [
    "from collections import Counter\n",
    "\n",
    "def aggregate_sizes(path_sizes):\n",
    "    c = Counter()\n",
    "    for expanded_path, size in path_sizes:\n",
    "        c[expanded_path] += size\n",
    "    return c\n"
   ]
  },
  {
   "cell_type": "code",
   "execution_count": 308,
   "id": "cd492816",
   "metadata": {},
   "outputs": [
    {
     "data": {
      "text/plain": [
       "Counter({'/': 48381165, '/ a': 94853, '/ a e': 584, '/ d': 24933642})"
      ]
     },
     "execution_count": 308,
     "metadata": {},
     "output_type": "execute_result"
    }
   ],
   "source": [
    "file_sizes = aggregate_sizes((\n",
    "    (expanded_path, size)\n",
    "    for path, size in ls_r(commands)\n",
    "    for expanded_path in expand_path(path)\n",
    "))\n",
    "\n",
    "file_sizes"
   ]
  },
  {
   "cell_type": "code",
   "execution_count": 309,
   "id": "545ba028",
   "metadata": {},
   "outputs": [
    {
     "data": {
      "text/plain": [
       "95437"
      ]
     },
     "execution_count": 309,
     "metadata": {},
     "output_type": "execute_result"
    }
   ],
   "source": [
    "sum([size for size in file_sizes.values() if size <= 100000])"
   ]
  },
  {
   "cell_type": "code",
   "execution_count": 310,
   "id": "d90df4ab",
   "metadata": {},
   "outputs": [
    {
     "name": "stdout",
     "output_type": "stream",
     "text": [
      "24933642\n"
     ]
    }
   ],
   "source": [
    "available_space = 40000000\n",
    "\n",
    "used_space = file_sizes['/']\n",
    "\n",
    "required_space = used_space - available_space\n",
    "\n",
    "for size in sorted([size for size in file_sizes.values()]):\n",
    "    if size < required_space:\n",
    "        continue\n",
    "    else:\n",
    "        print(size)\n",
    "        break\n"
   ]
  },
  {
   "cell_type": "code",
   "execution_count": null,
   "id": "6023d334",
   "metadata": {},
   "outputs": [],
   "source": []
  }
 ],
 "metadata": {
  "kernelspec": {
   "display_name": "Python 3 (ipykernel)",
   "language": "python",
   "name": "python3"
  },
  "language_info": {
   "codemirror_mode": {
    "name": "ipython",
    "version": 3
   },
   "file_extension": ".py",
   "mimetype": "text/x-python",
   "name": "python",
   "nbconvert_exporter": "python",
   "pygments_lexer": "ipython3",
   "version": "3.9.13"
  }
 },
 "nbformat": 4,
 "nbformat_minor": 5
}
