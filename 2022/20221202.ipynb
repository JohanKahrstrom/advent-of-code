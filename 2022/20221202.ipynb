{
 "cells": [
  {
   "cell_type": "code",
   "execution_count": 1,
   "id": "bb735b36",
   "metadata": {},
   "outputs": [],
   "source": [
    "from aoc import read_file"
   ]
  },
  {
   "cell_type": "code",
   "execution_count": 54,
   "id": "fa535083",
   "metadata": {},
   "outputs": [],
   "source": [
    "text = read_file('20221202.txt')"
   ]
  },
  {
   "cell_type": "markdown",
   "id": "a7a75361",
   "metadata": {},
   "source": [
    "# Part 1"
   ]
  },
  {
   "cell_type": "code",
   "execution_count": 55,
   "id": "7e1aa6f5",
   "metadata": {},
   "outputs": [],
   "source": [
    "score_map = {\n",
    "    'A': 1,\n",
    "    'B': 2,\n",
    "    'C': 3,\n",
    "    'X': 1,\n",
    "    'Y': 2,\n",
    "    'Z': 3\n",
    "}\n",
    "\n",
    "win_set = set([\n",
    "    (1, 2),\n",
    "    (2, 3),\n",
    "    (3, 1),\n",
    "])"
   ]
  },
  {
   "cell_type": "code",
   "execution_count": 56,
   "id": "9d00b3f7",
   "metadata": {},
   "outputs": [
    {
     "data": {
      "text/plain": [
       "8890"
      ]
     },
     "execution_count": 56,
     "metadata": {},
     "output_type": "execute_result"
    }
   ],
   "source": [
    "total_score = 0\n",
    "\n",
    "for line in text.split('\\n'):\n",
    "    a, b = 0, 0\n",
    "    # skip last line\n",
    "    if line == '':\n",
    "        break\n",
    "    scores = tuple([score_map[c] for c in line.split(' ')])\n",
    "    a = scores[1]\n",
    "    if scores in win_set:\n",
    "        b = 6\n",
    "    elif scores[0] == scores[1]:\n",
    "        b = 3\n",
    "    \n",
    "    total_score += a + b\n",
    "\n",
    "total_score"
   ]
  },
  {
   "cell_type": "markdown",
   "id": "3baebfe0",
   "metadata": {},
   "source": [
    "# Part 2"
   ]
  },
  {
   "cell_type": "code",
   "execution_count": 57,
   "id": "25c7cad9",
   "metadata": {},
   "outputs": [
    {
     "name": "stdout",
     "output_type": "stream",
     "text": [
      "10238\n"
     ]
    }
   ],
   "source": [
    "total_score = 0\n",
    "\n",
    "win_map = {\n",
    "    1: 2,\n",
    "    2: 3,\n",
    "    3: 1\n",
    "}\n",
    "\n",
    "draw_map = {\n",
    "    1: 1,\n",
    "    2: 2,\n",
    "    3: 3\n",
    "}\n",
    "\n",
    "lose_map = {\n",
    "    1: 3,\n",
    "    2: 1,\n",
    "    3: 2\n",
    "}\n",
    "\n",
    "play_map = {\n",
    "    1: lose_map,\n",
    "    2: draw_map,\n",
    "    3: win_map\n",
    "}\n",
    "\n",
    "result_map = {\n",
    "    1: 0,\n",
    "    2: 3,\n",
    "    3: 6\n",
    "}\n",
    "\n",
    "total_score = 0\n",
    "\n",
    "for line in text.split('\\n'):\n",
    "    if line == '':\n",
    "        break\n",
    "    scores = tuple([score_map[c] for c in line.split(' ')])\n",
    "    \n",
    "    me = play_map[scores[1]][scores[0]]\n",
    "    result = result_map[scores[1]]\n",
    "    total_score += me + result\n",
    "    \n",
    "print(total_score)"
   ]
  },
  {
   "cell_type": "code",
   "execution_count": null,
   "id": "1e6b2c59",
   "metadata": {},
   "outputs": [],
   "source": []
  }
 ],
 "metadata": {
  "kernelspec": {
   "display_name": "Python 3 (ipykernel)",
   "language": "python",
   "name": "python3"
  },
  "language_info": {
   "codemirror_mode": {
    "name": "ipython",
    "version": 3
   },
   "file_extension": ".py",
   "mimetype": "text/x-python",
   "name": "python",
   "nbconvert_exporter": "python",
   "pygments_lexer": "ipython3",
   "version": "3.9.13"
  }
 },
 "nbformat": 4,
 "nbformat_minor": 5
}
