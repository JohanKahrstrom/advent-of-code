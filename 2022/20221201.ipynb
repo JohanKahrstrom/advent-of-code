{
 "cells": [
  {
   "cell_type": "code",
   "execution_count": 21,
   "id": "bb735b36",
   "metadata": {},
   "outputs": [],
   "source": [
    "from aoc import read_file"
   ]
  },
  {
   "cell_type": "code",
   "execution_count": 22,
   "id": "7e1aa6f5",
   "metadata": {},
   "outputs": [
    {
     "data": {
      "text/plain": [
       "215594"
      ]
     },
     "execution_count": 22,
     "metadata": {},
     "output_type": "execute_result"
    }
   ],
   "source": [
    "text = read_file('20221201.txt')\n",
    "\n",
    "cals = []\n",
    "for elf in text.split('\\n\\n'):\n",
    "    cals.append(sum([int(s) for s in elf.split('\\n') if s != '']))\n",
    "\n",
    "sum(sorted(cals)[::-1][:3])"
   ]
  },
  {
   "cell_type": "code",
   "execution_count": 23,
   "id": "9d00b3f7",
   "metadata": {},
   "outputs": [
    {
     "data": {
      "text/plain": [
       "['2390',\n",
       " '4112',\n",
       " '4584',\n",
       " '1655',\n",
       " '3641',\n",
       " '1485',\n",
       " '4486',\n",
       " '3442',\n",
       " '6506',\n",
       " '2663',\n",
       " '3253',\n",
       " '2123',\n",
       " '4825']"
      ]
     },
     "execution_count": 23,
     "metadata": {},
     "output_type": "execute_result"
    }
   ],
   "source": [
    "[s for s in elf.split('\\n') if s != '']"
   ]
  },
  {
   "cell_type": "code",
   "execution_count": null,
   "id": "be75dc5e",
   "metadata": {},
   "outputs": [],
   "source": [
    "def read_file(filename):\n",
    "    with open(filename) as f:\n",
    "        return f.read()\n",
    "\n",
    "text = read_file('20221201.txt')\n",
    "\n",
    "cals = []\n",
    "for elf in text.split('\\n\\n'):\n",
    "    cals.append(sum([int(s) for s in elf.split('\\n') if s != '']))\n",
    "\n",
    "sum(sorted(cals)[::-1][:3])"
   ]
  }
 ],
 "metadata": {
  "kernelspec": {
   "display_name": "Python 3 (ipykernel)",
   "language": "python",
   "name": "python3"
  },
  "language_info": {
   "codemirror_mode": {
    "name": "ipython",
    "version": 3
   },
   "file_extension": ".py",
   "mimetype": "text/x-python",
   "name": "python",
   "nbconvert_exporter": "python",
   "pygments_lexer": "ipython3",
   "version": "3.9.13"
  }
 },
 "nbformat": 4,
 "nbformat_minor": 5
}
