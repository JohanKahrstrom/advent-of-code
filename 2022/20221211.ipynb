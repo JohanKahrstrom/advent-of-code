{
 "cells": [
  {
   "cell_type": "code",
   "execution_count": 2,
   "id": "bb735b36",
   "metadata": {},
   "outputs": [],
   "source": [
    "from aoc import read_file"
   ]
  },
  {
   "cell_type": "code",
   "execution_count": 179,
   "id": "7e1aa6f5",
   "metadata": {},
   "outputs": [],
   "source": [
    "text = read_file('20221211.txt').split('\\n')"
   ]
  },
  {
   "cell_type": "code",
   "execution_count": 180,
   "id": "69daa50b",
   "metadata": {},
   "outputs": [],
   "source": [
    "# text"
   ]
  },
  {
   "cell_type": "code",
   "execution_count": 181,
   "id": "9d00b3f7",
   "metadata": {},
   "outputs": [],
   "source": [
    "from collections import deque\n",
    "\n",
    "def read_monkeys(text):\n",
    "    monkeys = {}\n",
    "    monkey_order = []\n",
    "    for i in range(0, len(text), 7):\n",
    "        monkey_name = int(text[i].split(' ')[1][:-1])\n",
    "        monkey_items = deque([int(c) for c in text[i+1][18:].split(', ')])\n",
    "        monkey_operation = text[i+2][19:].split(' ')\n",
    "        monkey_divisible = int(text[i+3].split(' ')[-1])\n",
    "        monkey_target_true = int(text[i+4].split(' ')[-1])\n",
    "        monkey_target_false = int(text[i+5].split(' ')[-1])\n",
    "        \n",
    "        monkey_order.append(monkey_name)\n",
    "        \n",
    "        monkeys[monkey_name] = {\n",
    "            'items': monkey_items,\n",
    "            'operation': monkey_operation,\n",
    "            'divisible': monkey_divisible,\n",
    "            'target_true': monkey_target_true,\n",
    "            'target_false': monkey_target_false\n",
    "        }\n",
    "    \n",
    "    return monkey_order, monkeys"
   ]
  },
  {
   "cell_type": "code",
   "execution_count": 182,
   "id": "be75dc5e",
   "metadata": {},
   "outputs": [],
   "source": [
    "def get_value(string, worry_level):\n",
    "    if string == 'old':\n",
    "        return worry_level\n",
    "    else:\n",
    "        return int(string)\n",
    "\n",
    "def do_operation(operation, worry_level):\n",
    "    left = get_value(operation[0], worry_level)\n",
    "    operator = operation[1]\n",
    "    right = get_value(operation[2], worry_level)\n",
    "    if operator == '*':\n",
    "        return left * right\n",
    "    elif operator == '+':\n",
    "        return left + right\n",
    "\n",
    "\n",
    "def handle_monkey(monkey, monkeys, inspection_count):\n",
    "    inspection_count[monkey] += len(monkeys[monkey]['items'])\n",
    "    while len(monkeys[monkey]['items']) > 0:\n",
    "        worry_level = monkeys[monkey]['items'].popleft()\n",
    "        worry_level = do_operation(monkeys[monkey]['operation'], worry_level)\n",
    "        worry_level //= 3\n",
    "        if (worry_level % monkeys[monkey]['divisible']) == 0:\n",
    "            monkeys[monkeys[monkey]['target_true']]['items'].append(worry_level)\n",
    "        else:\n",
    "            monkeys[monkeys[monkey]['target_false']]['items'].append(worry_level)\n"
   ]
  },
  {
   "cell_type": "code",
   "execution_count": 183,
   "id": "bcb5f5c2",
   "metadata": {},
   "outputs": [],
   "source": [
    "from collections import Counter\n",
    "\n",
    "monkey_order, monkeys = read_monkeys(text)\n",
    "inspection_count = Counter()\n",
    "\n",
    "for i in range(20):\n",
    "    for monkey in monkey_order:\n",
    "        handle_monkey(monkey, monkeys, inspection_count)"
   ]
  },
  {
   "cell_type": "code",
   "execution_count": 184,
   "id": "4f939176",
   "metadata": {},
   "outputs": [
    {
     "data": {
      "text/plain": [
       "54054"
      ]
     },
     "execution_count": 184,
     "metadata": {},
     "output_type": "execute_result"
    }
   ],
   "source": [
    "monkey_business1, monkey_business2 = sorted(inspection_count.values())[-2:]\n",
    "monkey_business1 * monkey_business2"
   ]
  },
  {
   "cell_type": "code",
   "execution_count": 186,
   "id": "e242cac0",
   "metadata": {},
   "outputs": [],
   "source": [
    "import math\n",
    "\n",
    "def lcm(a, b):\n",
    "    return abs(a*b) // math.gcd(a, b)\n",
    "\n",
    "# Part 2\n",
    "def handle_monkey2(monkey, monkeys, inspection_count, modulus):\n",
    "    inspection_count[monkey] += len(monkeys[monkey]['items'])\n",
    "    while len(monkeys[monkey]['items']) > 0:\n",
    "        worry_level = monkeys[monkey]['items'].popleft()\n",
    "        worry_level = do_operation(monkeys[monkey]['operation'], worry_level) % modulus\n",
    "        if (worry_level % monkeys[monkey]['divisible']) == 0:\n",
    "            monkeys[monkeys[monkey]['target_true']]['items'].append(worry_level)\n",
    "        else:\n",
    "            monkeys[monkeys[monkey]['target_false']]['items'].append(worry_level)\n",
    "\n",
    "monkey_order, monkeys = read_monkeys(text)\n",
    "inspection_count = Counter()\n",
    "\n",
    "modulus = 1\n",
    "for m in [monkey['divisible'] for monkey in monkeys.values()]:\n",
    "    modulus = lcm(modulus, m)\n",
    "\n",
    "for i in range(10000):\n",
    "    for monkey in monkey_order:\n",
    "        handle_monkey2(monkey, monkeys, inspection_count, modulus)"
   ]
  },
  {
   "cell_type": "code",
   "execution_count": 187,
   "id": "0cac387f",
   "metadata": {},
   "outputs": [
    {
     "data": {
      "text/plain": [
       "14314925001"
      ]
     },
     "execution_count": 187,
     "metadata": {},
     "output_type": "execute_result"
    }
   ],
   "source": [
    "monkey_business1, monkey_business2 = sorted(inspection_count.values())[-2:]\n",
    "monkey_business1 * monkey_business2"
   ]
  },
  {
   "cell_type": "code",
   "execution_count": 152,
   "id": "df346ee3",
   "metadata": {},
   "outputs": [
    {
     "data": {
      "text/plain": [
       "[9, 49995, 49999, 50001]"
      ]
     },
     "execution_count": 152,
     "metadata": {},
     "output_type": "execute_result"
    }
   ],
   "source": [
    "sorted(inspection_count.values())"
   ]
  },
  {
   "cell_type": "code",
   "execution_count": null,
   "id": "e7a3e3c9",
   "metadata": {},
   "outputs": [],
   "source": []
  },
  {
   "cell_type": "code",
   "execution_count": null,
   "id": "7e0ca12e",
   "metadata": {},
   "outputs": [],
   "source": []
  },
  {
   "cell_type": "code",
   "execution_count": null,
   "id": "7ae5b931",
   "metadata": {},
   "outputs": [],
   "source": []
  }
 ],
 "metadata": {
  "kernelspec": {
   "display_name": "Python 3 (ipykernel)",
   "language": "python",
   "name": "python3"
  },
  "language_info": {
   "codemirror_mode": {
    "name": "ipython",
    "version": 3
   },
   "file_extension": ".py",
   "mimetype": "text/x-python",
   "name": "python",
   "nbconvert_exporter": "python",
   "pygments_lexer": "ipython3",
   "version": "3.9.13"
  }
 },
 "nbformat": 4,
 "nbformat_minor": 5
}
