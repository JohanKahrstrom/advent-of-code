{
 "cells": [
  {
   "cell_type": "code",
   "execution_count": 2,
   "id": "bb735b36",
   "metadata": {},
   "outputs": [],
   "source": [
    "from aoc import read_file"
   ]
  },
  {
   "cell_type": "code",
   "execution_count": 53,
   "id": "7e1aa6f5",
   "metadata": {},
   "outputs": [],
   "source": [
    "lines = read_file('20221203.txt').split('\\n')\n"
   ]
  },
  {
   "cell_type": "code",
   "execution_count": 54,
   "id": "9d00b3f7",
   "metadata": {},
   "outputs": [],
   "source": [
    "def get_priority(char):\n",
    "    if 'a' <= char and char <= 'z':\n",
    "        return ord(char) - 96\n",
    "    else:\n",
    "        return ord(char) - 38\n",
    "\n",
    "priorities = []\n",
    "t = []\n",
    "\n",
    "for line1 in lines:\n",
    "    left = line[:(len(line) // 2)]\n",
    "    right = line[(len(line) // 2):]\n",
    "    shared = list(set(left).intersection(set(right)))\n",
    "    t.append(shared[0])\n",
    "    priorities.append(get_priority(shared[0]))"
   ]
  },
  {
   "cell_type": "code",
   "execution_count": 55,
   "id": "be75dc5e",
   "metadata": {},
   "outputs": [
    {
     "data": {
      "text/plain": [
       "7980"
      ]
     },
     "execution_count": 55,
     "metadata": {},
     "output_type": "execute_result"
    }
   ],
   "source": [
    "sum(priorities)"
   ]
  },
  {
   "cell_type": "code",
   "execution_count": 56,
   "id": "b4e91945",
   "metadata": {},
   "outputs": [],
   "source": [
    "priorities = []\n",
    "for line1, line2, line3 in list(zip(lines[:-2], lines[1: -1], lines[2:]))[::3]:\n",
    "    shared = list(set(line1).intersection(set(line2)).intersection(set(line3)))\n",
    "    priorities.append(get_priority(shared[0]))"
   ]
  },
  {
   "cell_type": "code",
   "execution_count": 57,
   "id": "1c4b98b3",
   "metadata": {},
   "outputs": [
    {
     "data": {
      "text/plain": [
       "2881"
      ]
     },
     "execution_count": 57,
     "metadata": {},
     "output_type": "execute_result"
    }
   ],
   "source": [
    "sum(priorities)"
   ]
  },
  {
   "cell_type": "code",
   "execution_count": null,
   "id": "77e82291",
   "metadata": {},
   "outputs": [],
   "source": []
  }
 ],
 "metadata": {
  "kernelspec": {
   "display_name": "Python 3 (ipykernel)",
   "language": "python",
   "name": "python3"
  },
  "language_info": {
   "codemirror_mode": {
    "name": "ipython",
    "version": 3
   },
   "file_extension": ".py",
   "mimetype": "text/x-python",
   "name": "python",
   "nbconvert_exporter": "python",
   "pygments_lexer": "ipython3",
   "version": "3.9.13"
  }
 },
 "nbformat": 4,
 "nbformat_minor": 5
}
