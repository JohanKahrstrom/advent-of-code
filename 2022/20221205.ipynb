{
 "cells": [
  {
   "cell_type": "code",
   "execution_count": 2,
   "id": "bb735b36",
   "metadata": {},
   "outputs": [],
   "source": [
    "from aoc import read_file"
   ]
  },
  {
   "cell_type": "code",
   "execution_count": 54,
   "id": "7e1aa6f5",
   "metadata": {},
   "outputs": [],
   "source": [
    "lines = read_file('20221205.txt').split('\\n')\n",
    "\n",
    "# Find separating line\n",
    "separating_line = lines.index('')\n",
    "\n",
    "# We flip the stacks upside down to make parsing more natural\n",
    "starting_stack = lines[:separating_line][::-1]\n",
    "instructions = lines[separating_line+1:]"
   ]
  },
  {
   "cell_type": "code",
   "execution_count": 58,
   "id": "9d00b3f7",
   "metadata": {},
   "outputs": [],
   "source": [
    "def parse(starting_stack):\n",
    "    # Figure out how many stacks we have, and what position they have on each line\n",
    "    stack_index_map = dict()\n",
    "\n",
    "    for index, character in enumerate(starting_stack[0]):\n",
    "        if character != ' ':\n",
    "            stack_index_map[int(character)] = index\n",
    "\n",
    "    # Build the actual stack map\n",
    "    stack_map = {character: [] for character in stack_index_map.keys()}\n",
    "\n",
    "    for line in starting_stack[1:]:\n",
    "        for stack, index in stack_index_map.items():\n",
    "            if line[stack_index_map[stack]] != ' ':\n",
    "                stack_map[stack].append(line[stack_index_map[stack]])\n",
    "    \n",
    "    return stack_map\n",
    "\n",
    "def parse_instruction_line(line):\n",
    "    parts = line.split(' ')\n",
    "    return int(parts[1]), int(parts[3]), int(parts[5])\n"
   ]
  },
  {
   "cell_type": "code",
   "execution_count": 59,
   "id": "be75dc5e",
   "metadata": {},
   "outputs": [
    {
     "data": {
      "text/plain": [
       "'SBPQRSCDF'"
      ]
     },
     "execution_count": 59,
     "metadata": {},
     "output_type": "execute_result"
    }
   ],
   "source": [
    "# Part 1\n",
    "\n",
    "stack_map = parse(starting_stack)\n",
    "\n",
    "for line in instructions:\n",
    "    nr_items, from_stack, to_stack = parse_instruction_line(line)\n",
    "    for _ in range(nr_items):\n",
    "        stack_map[to_stack].append(stack_map[from_stack].pop())\n",
    "\n",
    "''.join([stack_map[stack][-1] for stack in sorted(stack_map.keys())])"
   ]
  },
  {
   "cell_type": "code",
   "execution_count": 60,
   "id": "b4e91945",
   "metadata": {},
   "outputs": [
    {
     "data": {
      "text/plain": [
       "'RGLVRCQSB'"
      ]
     },
     "execution_count": 60,
     "metadata": {},
     "output_type": "execute_result"
    }
   ],
   "source": [
    "# Part 2\n",
    "\n",
    "stack_map = parse(starting_stack)\n",
    "\n",
    "for line in instructions:\n",
    "    nr_items, from_stack, to_stack = parse_instruction_line(line)\n",
    "    \n",
    "    temp_stack = []\n",
    "    for _ in range(nr_items):\n",
    "        temp_stack.append(stack_map[from_stack].pop())\n",
    "    for item in temp_stack[::-1]:\n",
    "        stack_map[to_stack].append(item)\n",
    "\n",
    "''.join([stack_map[stack][-1] for stack in sorted(stack_map.keys())])"
   ]
  },
  {
   "cell_type": "code",
   "execution_count": 57,
   "id": "1c4b98b3",
   "metadata": {},
   "outputs": [
    {
     "data": {
      "text/plain": [
       "2881"
      ]
     },
     "execution_count": 57,
     "metadata": {},
     "output_type": "execute_result"
    }
   ],
   "source": []
  },
  {
   "cell_type": "code",
   "execution_count": null,
   "id": "77e82291",
   "metadata": {},
   "outputs": [],
   "source": []
  }
 ],
 "metadata": {
  "kernelspec": {
   "display_name": "Python 3 (ipykernel)",
   "language": "python",
   "name": "python3"
  },
  "language_info": {
   "codemirror_mode": {
    "name": "ipython",
    "version": 3
   },
   "file_extension": ".py",
   "mimetype": "text/x-python",
   "name": "python",
   "nbconvert_exporter": "python",
   "pygments_lexer": "ipython3",
   "version": "3.9.13"
  }
 },
 "nbformat": 4,
 "nbformat_minor": 5
}
