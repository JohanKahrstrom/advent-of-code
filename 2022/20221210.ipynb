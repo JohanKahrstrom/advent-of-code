{
 "cells": [
  {
   "cell_type": "code",
   "execution_count": 2,
   "id": "bb735b36",
   "metadata": {},
   "outputs": [],
   "source": [
    "from aoc import read_file"
   ]
  },
  {
   "cell_type": "code",
   "execution_count": 99,
   "id": "7e1aa6f5",
   "metadata": {},
   "outputs": [],
   "source": [
    "text = read_file('20221210.txt').split('\\n')"
   ]
  },
  {
   "cell_type": "code",
   "execution_count": 100,
   "id": "9d00b3f7",
   "metadata": {},
   "outputs": [],
   "source": [
    "x = [1]\n",
    "t = ['']\n",
    "i = [0]\n",
    "for line in text:\n",
    "    if line == 'noop':\n",
    "        x.append(x[-1])\n",
    "        t.append(line)\n",
    "        i.append(i[-1]+1)\n",
    "    else:\n",
    "        y = int(line.split(' ')[1])\n",
    "        x.append(x[-1])\n",
    "        x.append(x[-1] + y)\n",
    "        t.append(line)\n",
    "        t.append(line)\n",
    "        i.append(i[-1]+1)\n",
    "        i.append(i[-1]+1)\n"
   ]
  },
  {
   "cell_type": "code",
   "execution_count": 101,
   "id": "be75dc5e",
   "metadata": {},
   "outputs": [
    {
     "data": {
      "text/plain": [
       "12560"
      ]
     },
     "execution_count": 101,
     "metadata": {},
     "output_type": "execute_result"
    }
   ],
   "source": [
    "# Part 1\n",
    "\n",
    "sum([xx * ii for xx, ii in zip(x[19::40], i[20::40])])"
   ]
  },
  {
   "cell_type": "code",
   "execution_count": 102,
   "id": "9e16ab13",
   "metadata": {},
   "outputs": [
    {
     "name": "stdout",
     "output_type": "stream",
     "text": [
      "###..#....###...##..####.###...##..#....\n",
      "#..#.#....#..#.#..#.#....#..#.#..#.#....\n",
      "#..#.#....#..#.#..#.###..###..#....#....\n",
      "###..#....###..####.#....#..#.#....#....\n",
      "#....#....#....#..#.#....#..#.#..#.#....\n",
      "#....####.#....#..#.#....###...##..####.\n",
      ".\n"
     ]
    }
   ],
   "source": [
    "# Part 2\n",
    "output = ''\n",
    "\n",
    "pos = 1\n",
    "\n",
    "for val in x:\n",
    "    if abs(len(output) - val) <= 1:\n",
    "        output += '#'\n",
    "    else:\n",
    "        output += '.'\n",
    "    if len(output) >= 40:\n",
    "        print(output)\n",
    "        output = ''\n",
    "\n",
    "if len(output) > 0:\n",
    "    print(output)"
   ]
  },
  {
   "cell_type": "code",
   "execution_count": null,
   "id": "5761ee94",
   "metadata": {},
   "outputs": [],
   "source": []
  }
 ],
 "metadata": {
  "kernelspec": {
   "display_name": "Python 3 (ipykernel)",
   "language": "python",
   "name": "python3"
  },
  "language_info": {
   "codemirror_mode": {
    "name": "ipython",
    "version": 3
   },
   "file_extension": ".py",
   "mimetype": "text/x-python",
   "name": "python",
   "nbconvert_exporter": "python",
   "pygments_lexer": "ipython3",
   "version": "3.9.13"
  }
 },
 "nbformat": 4,
 "nbformat_minor": 5
}
