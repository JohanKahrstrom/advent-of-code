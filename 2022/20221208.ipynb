{
 "cells": [
  {
   "cell_type": "code",
   "execution_count": 1,
   "id": "bb735b36",
   "metadata": {},
   "outputs": [],
   "source": [
    "from aoc import read_file"
   ]
  },
  {
   "cell_type": "code",
   "execution_count": 142,
   "id": "7e1aa6f5",
   "metadata": {},
   "outputs": [],
   "source": [
    "lines = read_file('20221208_test.txt').split('\\n')"
   ]
  },
  {
   "cell_type": "markdown",
   "id": "80f026ef",
   "metadata": {},
   "source": [
    "# Part 1"
   ]
  },
  {
   "cell_type": "code",
   "execution_count": 143,
   "id": "9d00b3f7",
   "metadata": {},
   "outputs": [],
   "source": [
    "import numpy as np"
   ]
  },
  {
   "cell_type": "code",
   "execution_count": 144,
   "id": "be75dc5e",
   "metadata": {},
   "outputs": [],
   "source": [
    "a = np.array([\n",
    "    [int(c) for c in line]\n",
    "    for line in lines\n",
    "])"
   ]
  },
  {
   "cell_type": "code",
   "execution_count": 145,
   "id": "b4e91945",
   "metadata": {},
   "outputs": [
    {
     "data": {
      "text/plain": [
       "array([[3, 0, 3, 7, 3],\n",
       "       [2, 5, 5, 1, 2],\n",
       "       [6, 5, 3, 3, 2],\n",
       "       [3, 3, 5, 4, 9],\n",
       "       [3, 5, 3, 9, 0]])"
      ]
     },
     "execution_count": 145,
     "metadata": {},
     "output_type": "execute_result"
    }
   ],
   "source": [
    "a"
   ]
  },
  {
   "cell_type": "code",
   "execution_count": 158,
   "id": "1c4b98b3",
   "metadata": {},
   "outputs": [
    {
     "data": {
      "text/plain": [
       "array([[3, 0, 3, 7, 3],\n",
       "       [3, 5, 5, 7, 3],\n",
       "       [6, 5, 5, 7, 3],\n",
       "       [6, 5, 5, 7, 9],\n",
       "       [6, 5, 5, 9, 9]])"
      ]
     },
     "execution_count": 158,
     "metadata": {},
     "output_type": "execute_result"
    }
   ],
   "source": [
    "# From top 'cumulative max'\n",
    "np.maximum.accumulate(a)"
   ]
  },
  {
   "cell_type": "code",
   "execution_count": 160,
   "id": "4b0f9559",
   "metadata": {},
   "outputs": [
    {
     "data": {
      "text/plain": [
       "array([[-1, -1, -1, -1, -1],\n",
       "       [ 3,  0,  3,  7,  3],\n",
       "       [ 3,  5,  5,  7,  3],\n",
       "       [ 6,  5,  5,  7,  3],\n",
       "       [ 6,  5,  5,  7,  9]])"
      ]
     },
     "execution_count": 160,
     "metadata": {},
     "output_type": "execute_result"
    }
   ],
   "source": [
    "# To compare columnwise, create a shifted copy:\n",
    "def shift_down(a):\n",
    "    top = np.ones((1, a.shape[1]), dtype=int) * -1\n",
    "    \n",
    "    return np.concatenate([top, a[:-1,:]])\n",
    "\n",
    "shift_down(np.maximum.accumulate(a))"
   ]
  },
  {
   "cell_type": "code",
   "execution_count": 161,
   "id": "77e82291",
   "metadata": {},
   "outputs": [
    {
     "data": {
      "text/plain": [
       "array([[ True,  True,  True,  True,  True],\n",
       "       [False,  True,  True, False, False],\n",
       "       [ True, False, False, False, False],\n",
       "       [False, False, False, False,  True],\n",
       "       [False, False, False,  True, False]])"
      ]
     },
     "execution_count": 161,
     "metadata": {},
     "output_type": "execute_result"
    }
   ],
   "source": [
    "def compare_top(a):\n",
    "    shifted_a = shift_down(a)\n",
    "    # return np.minimum.accumulate(shifted_a < a)\n",
    "    return shifted_a < a\n",
    "\n",
    "# This gets us the trees that are visible from the top\n",
    "compare_top(np.maximum.accumulate(a))"
   ]
  },
  {
   "cell_type": "code",
   "execution_count": 162,
   "id": "4e160342",
   "metadata": {},
   "outputs": [
    {
     "data": {
      "text/plain": [
       "array([[ True, False, False,  True, False],\n",
       "       [ True,  True, False, False, False],\n",
       "       [ True, False, False, False, False],\n",
       "       [ True, False,  True, False,  True],\n",
       "       [ True,  True, False,  True, False]])"
      ]
     },
     "execution_count": 162,
     "metadata": {},
     "output_type": "execute_result"
    }
   ],
   "source": [
    "compare_top(np.maximum.accumulate(a.T)).T"
   ]
  },
  {
   "cell_type": "code",
   "execution_count": null,
   "id": "9ee44b8f",
   "metadata": {},
   "outputs": [],
   "source": []
  },
  {
   "cell_type": "code",
   "execution_count": 148,
   "id": "fbb0970c",
   "metadata": {},
   "outputs": [],
   "source": [
    "# Do this from each side\n",
    "\n",
    "top = compare_top(np.maximum.accumulate(a))\n",
    "\n",
    "left = compare_top(np.maximum.accumulate(a.T)).T\n",
    "\n",
    "bottom = np.flip(compare_top(np.maximum.accumulate(np.flip(a, axis=0))), axis=0)\n",
    "\n",
    "right = np.flip(compare_top(np.maximum.accumulate(np.flip(a.T, axis=0))), axis=0).T"
   ]
  },
  {
   "cell_type": "code",
   "execution_count": 164,
   "id": "5bd53142",
   "metadata": {},
   "outputs": [
    {
     "data": {
      "text/plain": [
       "array([[ True,  True,  True,  True,  True],\n",
       "       [ True,  True,  True, False,  True],\n",
       "       [ True,  True, False,  True,  True],\n",
       "       [ True, False,  True, False,  True],\n",
       "       [ True,  True,  True,  True,  True]])"
      ]
     },
     "execution_count": 164,
     "metadata": {},
     "output_type": "execute_result"
    }
   ],
   "source": [
    "((top + left + bottom + right) > 0)"
   ]
  },
  {
   "cell_type": "code",
   "execution_count": 165,
   "id": "eda39050",
   "metadata": {},
   "outputs": [
    {
     "data": {
      "text/plain": [
       "21"
      ]
     },
     "execution_count": 165,
     "metadata": {},
     "output_type": "execute_result"
    }
   ],
   "source": [
    "((top + left + bottom + right) > 0).sum().sum()"
   ]
  },
  {
   "cell_type": "markdown",
   "id": "b35ac7ee",
   "metadata": {},
   "source": [
    "# Part 2"
   ]
  },
  {
   "cell_type": "code",
   "execution_count": 150,
   "id": "513c3a83",
   "metadata": {},
   "outputs": [
    {
     "data": {
      "text/plain": [
       "array([[3, 0, 3, 7, 3],\n",
       "       [2, 5, 5, 1, 2],\n",
       "       [6, 5, 3, 3, 2],\n",
       "       [3, 3, 5, 4, 9],\n",
       "       [3, 5, 3, 9, 0]])"
      ]
     },
     "execution_count": 150,
     "metadata": {},
     "output_type": "execute_result"
    }
   ],
   "source": [
    "a"
   ]
  },
  {
   "cell_type": "code",
   "execution_count": 154,
   "id": "652e7e93",
   "metadata": {},
   "outputs": [],
   "source": [
    "def look_down(a):\n",
    "    \"\"\"Calculates how many trees can be seen from each position by looking down\"\"\"\n",
    "    result = np.zeros(a.shape, int)\n",
    "\n",
    "    for i in range(a.shape[0]):\n",
    "        for j in range(a.shape[1]):\n",
    "            v = a[i, j]\n",
    "            count = 0\n",
    "            for k in range(i+1, a.shape[0]):\n",
    "                count += 1\n",
    "                if a[k, j] >= a[i, j]:\n",
    "                    break\n",
    "            result[i, j] = count\n",
    "    \n",
    "    return result"
   ]
  },
  {
   "cell_type": "code",
   "execution_count": 155,
   "id": "3cce8850",
   "metadata": {},
   "outputs": [
    {
     "data": {
      "text/plain": [
       "array([[2, 1, 1, 4, 3],\n",
       "       [1, 1, 2, 1, 1],\n",
       "       [2, 2, 1, 1, 1],\n",
       "       [1, 1, 1, 1, 1],\n",
       "       [0, 0, 0, 0, 0]])"
      ]
     },
     "execution_count": 155,
     "metadata": {},
     "output_type": "execute_result"
    }
   ],
   "source": [
    "look_down(a)"
   ]
  },
  {
   "cell_type": "code",
   "execution_count": 156,
   "id": "df138d0e",
   "metadata": {},
   "outputs": [],
   "source": [
    "top2 = look_down(a)\n",
    "\n",
    "left2 = look_down(a.T).T\n",
    "\n",
    "bottom2 = np.flip(look_down(np.flip(a, axis=0)), axis=0)\n",
    "\n",
    "right2 = np.flip(look_down(np.flip(a.T, axis=0)), axis=0).T"
   ]
  },
  {
   "cell_type": "code",
   "execution_count": 157,
   "id": "e8e1f038",
   "metadata": {},
   "outputs": [
    {
     "data": {
      "text/plain": [
       "8"
      ]
     },
     "execution_count": 157,
     "metadata": {},
     "output_type": "execute_result"
    }
   ],
   "source": [
    "np.max((top2 * left2 * bottom2 * right2))"
   ]
  },
  {
   "cell_type": "code",
   "execution_count": null,
   "id": "4c7004da",
   "metadata": {},
   "outputs": [],
   "source": []
  }
 ],
 "metadata": {
  "kernelspec": {
   "display_name": "Python 3 (ipykernel)",
   "language": "python",
   "name": "python3"
  },
  "language_info": {
   "codemirror_mode": {
    "name": "ipython",
    "version": 3
   },
   "file_extension": ".py",
   "mimetype": "text/x-python",
   "name": "python",
   "nbconvert_exporter": "python",
   "pygments_lexer": "ipython3",
   "version": "3.9.13"
  }
 },
 "nbformat": 4,
 "nbformat_minor": 5
}
