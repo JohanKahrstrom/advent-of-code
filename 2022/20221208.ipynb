{
 "cells": [
  {
   "cell_type": "code",
   "execution_count": 1,
   "id": "bb735b36",
   "metadata": {},
   "outputs": [],
   "source": [
    "from aoc import read_file"
   ]
  },
  {
   "cell_type": "code",
   "execution_count": 130,
   "id": "7e1aa6f5",
   "metadata": {},
   "outputs": [],
   "source": [
    "lines = read_file('20221208.txt').split('\\n')"
   ]
  },
  {
   "cell_type": "markdown",
   "id": "66621aaf",
   "metadata": {},
   "source": [
    "# Part 1"
   ]
  },
  {
   "cell_type": "code",
   "execution_count": 131,
   "id": "9d00b3f7",
   "metadata": {},
   "outputs": [],
   "source": [
    "import numpy as np"
   ]
  },
  {
   "cell_type": "code",
   "execution_count": 132,
   "id": "be75dc5e",
   "metadata": {},
   "outputs": [],
   "source": [
    "a = np.array([\n",
    "    [int(c) for c in line]\n",
    "    for line in lines\n",
    "])"
   ]
  },
  {
   "cell_type": "code",
   "execution_count": 133,
   "id": "b4e91945",
   "metadata": {},
   "outputs": [
    {
     "data": {
      "text/plain": [
       "array([[4, 2, 2, ..., 1, 2, 1],\n",
       "       [3, 0, 1, ..., 1, 3, 4],\n",
       "       [4, 1, 0, ..., 3, 4, 3],\n",
       "       ...,\n",
       "       [3, 3, 2, ..., 2, 3, 1],\n",
       "       [1, 1, 0, ..., 1, 3, 1],\n",
       "       [2, 3, 1, ..., 1, 1, 4]])"
      ]
     },
     "execution_count": 133,
     "metadata": {},
     "output_type": "execute_result"
    }
   ],
   "source": [
    "a"
   ]
  },
  {
   "cell_type": "code",
   "execution_count": 134,
   "id": "1c4b98b3",
   "metadata": {},
   "outputs": [
    {
     "data": {
      "text/plain": [
       "array([[4, 2, 2, ..., 1, 2, 1],\n",
       "       [4, 2, 2, ..., 1, 3, 4],\n",
       "       [4, 2, 2, ..., 3, 4, 4],\n",
       "       ...,\n",
       "       [7, 7, 7, ..., 7, 7, 7],\n",
       "       [7, 7, 7, ..., 7, 7, 7],\n",
       "       [7, 7, 7, ..., 7, 7, 7]])"
      ]
     },
     "execution_count": 134,
     "metadata": {},
     "output_type": "execute_result"
    }
   ],
   "source": [
    "# From top 'cumulative max'\n",
    "np.maximum.accumulate(a)"
   ]
  },
  {
   "cell_type": "code",
   "execution_count": 135,
   "id": "77e82291",
   "metadata": {},
   "outputs": [
    {
     "data": {
      "text/plain": [
       "array([[ True,  True,  True, ...,  True,  True,  True],\n",
       "       [False, False, False, ..., False,  True,  True],\n",
       "       [False, False, False, ...,  True,  True, False],\n",
       "       ...,\n",
       "       [False, False, False, ..., False, False, False],\n",
       "       [False, False, False, ..., False, False, False],\n",
       "       [False, False, False, ..., False, False, False]])"
      ]
     },
     "execution_count": 135,
     "metadata": {},
     "output_type": "execute_result"
    }
   ],
   "source": [
    "# To compare columnwise, create a shifted copy:\n",
    "def shift_down(a):\n",
    "    top = np.ones((1, a.shape[1]), dtype=int) * -1\n",
    "    \n",
    "    return np.concatenate([top, a[:-1,:]])\n",
    "\n",
    "def compare_top(a):\n",
    "    shifted_a = shift_down(a)\n",
    "    # return np.minimum.accumulate(shifted_a < a)\n",
    "    return shifted_a < a\n",
    "\n",
    "# This gets us the trees that are visible from the top\n",
    "compare_top(np.maximum.accumulate(a))"
   ]
  },
  {
   "cell_type": "code",
   "execution_count": 136,
   "id": "fbb0970c",
   "metadata": {},
   "outputs": [],
   "source": [
    "# Do this from each side\n",
    "\n",
    "top = compare_top(np.maximum.accumulate(a))\n",
    "\n",
    "left = compare_top(np.maximum.accumulate(a.T)).T\n",
    "\n",
    "bottom = np.flip(compare_top(np.maximum.accumulate(np.flip(a, axis=0))), axis=0)\n",
    "\n",
    "right = np.flip(compare_top(np.maximum.accumulate(np.flip(a.T, axis=0))), axis=0).T"
   ]
  },
  {
   "cell_type": "code",
   "execution_count": 137,
   "id": "5bd53142",
   "metadata": {},
   "outputs": [
    {
     "data": {
      "text/plain": [
       "1543"
      ]
     },
     "execution_count": 137,
     "metadata": {},
     "output_type": "execute_result"
    }
   ],
   "source": [
    "((top + left + bottom + right) > 0).sum().sum()"
   ]
  },
  {
   "cell_type": "markdown",
   "id": "82c580b0",
   "metadata": {},
   "source": [
    "# Part 2"
   ]
  },
  {
   "cell_type": "code",
   "execution_count": 138,
   "id": "182bd7be",
   "metadata": {},
   "outputs": [
    {
     "data": {
      "text/plain": [
       "array([[4, 2, 2, ..., 1, 2, 1],\n",
       "       [3, 0, 1, ..., 1, 3, 4],\n",
       "       [4, 1, 0, ..., 3, 4, 3],\n",
       "       ...,\n",
       "       [3, 3, 2, ..., 2, 3, 1],\n",
       "       [1, 1, 0, ..., 1, 3, 1],\n",
       "       [2, 3, 1, ..., 1, 1, 4]])"
      ]
     },
     "execution_count": 138,
     "metadata": {},
     "output_type": "execute_result"
    }
   ],
   "source": [
    "a"
   ]
  },
  {
   "cell_type": "code",
   "execution_count": 139,
   "id": "580442e5",
   "metadata": {},
   "outputs": [],
   "source": [
    "def look_down(a):\n",
    "    \"\"\"Calculates how many trees can be seen from each position by looking down\"\"\"\n",
    "    result = np.zeros(a.shape, int)\n",
    "\n",
    "    for i in range(a.shape[0]):\n",
    "        for j in range(a.shape[1]):\n",
    "            v = a[i, j]\n",
    "            count = 0\n",
    "            for k in range(i+1, a.shape[0]):\n",
    "                count += 1\n",
    "                if a[k, j] >= a[i, j]:\n",
    "                    break\n",
    "            result[i, j] = count\n",
    "    \n",
    "    return result"
   ]
  },
  {
   "cell_type": "code",
   "execution_count": 140,
   "id": "81c527cd",
   "metadata": {},
   "outputs": [],
   "source": [
    "top2 = look_down(a)\n",
    "\n",
    "left2 = look_down(a.T).T\n",
    "\n",
    "bottom2 = np.flip(look_down(np.flip(a, axis=0)), axis=0)\n",
    "\n",
    "right2 = np.flip(look_down(np.flip(a.T, axis=0)), axis=0).T"
   ]
  },
  {
   "cell_type": "code",
   "execution_count": 141,
   "id": "cbc6b57d",
   "metadata": {},
   "outputs": [
    {
     "data": {
      "text/plain": [
       "595080"
      ]
     },
     "execution_count": 141,
     "metadata": {},
     "output_type": "execute_result"
    }
   ],
   "source": [
    "np.max((top2 * left2 * bottom2 * right2))"
   ]
  },
  {
   "cell_type": "code",
   "execution_count": null,
   "id": "f3475751",
   "metadata": {},
   "outputs": [],
   "source": []
  }
 ],
 "metadata": {
  "kernelspec": {
   "display_name": "Python 3 (ipykernel)",
   "language": "python",
   "name": "python3"
  },
  "language_info": {
   "codemirror_mode": {
    "name": "ipython",
    "version": 3
   },
   "file_extension": ".py",
   "mimetype": "text/x-python",
   "name": "python",
   "nbconvert_exporter": "python",
   "pygments_lexer": "ipython3",
   "version": "3.9.13"
  }
 },
 "nbformat": 4,
 "nbformat_minor": 5
}
