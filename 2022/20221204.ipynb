{
 "cells": [
  {
   "cell_type": "code",
   "execution_count": 1,
   "id": "bb735b36",
   "metadata": {},
   "outputs": [],
   "source": [
    "from aoc import read_file"
   ]
  },
  {
   "cell_type": "code",
   "execution_count": 37,
   "id": "7e1aa6f5",
   "metadata": {},
   "outputs": [],
   "source": [
    "lines = read_file('20221204.txt').split('\\n')\n",
    "\n",
    "def parse_line(line):\n",
    "    return [int(number) for number in line.replace('-', ',').split(',')]\n",
    "\n",
    "interval_pairs = [parse_line(line) for line in lines]"
   ]
  },
  {
   "cell_type": "code",
   "execution_count": 38,
   "id": "9d00b3f7",
   "metadata": {},
   "outputs": [
    {
     "data": {
      "text/plain": [
       "599"
      ]
     },
     "execution_count": 38,
     "metadata": {},
     "output_type": "execute_result"
    }
   ],
   "source": [
    "# Part 1\n",
    "\n",
    "def is_contained(interval_pair):\n",
    "    if interval_pair[0] <= interval_pair[2] and interval_pair[1] >= interval_pair[3]:\n",
    "        return True\n",
    "    elif interval_pair[2] <= interval_pair[0] and interval_pair[3] >= interval_pair[1]:\n",
    "        return True\n",
    "    else:\n",
    "        return False\n",
    "\n",
    "len([interval_pair for interval_pair in interval_pairs if is_contained(interval_pair)])"
   ]
  },
  {
   "cell_type": "code",
   "execution_count": 39,
   "id": "be75dc5e",
   "metadata": {},
   "outputs": [
    {
     "data": {
      "text/plain": [
       "928"
      ]
     },
     "execution_count": 39,
     "metadata": {},
     "output_type": "execute_result"
    }
   ],
   "source": [
    "# Part 2\n",
    "\n",
    "def overlaps(interval_pair):\n",
    "    if interval_pair[0] <= interval_pair[2] and interval_pair[1] >= interval_pair[2]:\n",
    "        return True\n",
    "    elif interval_pair[2] <= interval_pair[0] and interval_pair[3] >= interval_pair[0]:\n",
    "        return True\n",
    "\n",
    "len([interval_pair for interval_pair in interval_pairs if overlaps(interval_pair)])"
   ]
  },
  {
   "cell_type": "code",
   "execution_count": null,
   "id": "b4e91945",
   "metadata": {},
   "outputs": [],
   "source": []
  },
  {
   "cell_type": "code",
   "execution_count": 57,
   "id": "1c4b98b3",
   "metadata": {},
   "outputs": [
    {
     "data": {
      "text/plain": [
       "2881"
      ]
     },
     "execution_count": 57,
     "metadata": {},
     "output_type": "execute_result"
    }
   ],
   "source": []
  },
  {
   "cell_type": "code",
   "execution_count": null,
   "id": "77e82291",
   "metadata": {},
   "outputs": [],
   "source": []
  }
 ],
 "metadata": {
  "kernelspec": {
   "display_name": "Python 3 (ipykernel)",
   "language": "python",
   "name": "python3"
  },
  "language_info": {
   "codemirror_mode": {
    "name": "ipython",
    "version": 3
   },
   "file_extension": ".py",
   "mimetype": "text/x-python",
   "name": "python",
   "nbconvert_exporter": "python",
   "pygments_lexer": "ipython3",
   "version": "3.9.13"
  }
 },
 "nbformat": 4,
 "nbformat_minor": 5
}
