{
 "cells": [
  {
   "cell_type": "code",
   "execution_count": 2,
   "id": "bb735b36",
   "metadata": {},
   "outputs": [],
   "source": [
    "from aoc import read_file"
   ]
  },
  {
   "cell_type": "code",
   "execution_count": 84,
   "id": "7e1aa6f5",
   "metadata": {},
   "outputs": [],
   "source": [
    "lines = read_file('20221209.txt').split('\\n')"
   ]
  },
  {
   "cell_type": "code",
   "execution_count": 85,
   "id": "9d00b3f7",
   "metadata": {},
   "outputs": [],
   "source": [
    "moves = [(line.split(' ')[0], int(line.split(' ')[1])) for line in lines]"
   ]
  },
  {
   "cell_type": "code",
   "execution_count": 156,
   "id": "be75dc5e",
   "metadata": {},
   "outputs": [],
   "source": [
    "def move_node(node, direction):\n",
    "    return (node[0] + direction[0], node[1] + direction[1])\n",
    "\n",
    "def update_head(head, direction):\n",
    "    if direction == 'R':\n",
    "        head = move_node(head, (1, 0))\n",
    "    elif direction == 'L':\n",
    "        head = move_node(head, (-1, 0))\n",
    "    elif direction == 'U':\n",
    "        head = move_node(head, (0, 1))\n",
    "    elif direction == 'D':\n",
    "        head = move_node(head, (0, -1))\n",
    "    return head\n",
    "\n",
    "def update_tail(head, tail):\n",
    "    if tail[0] < head[0] - 1:\n",
    "        tail = move_node(tail, (1, 0))\n",
    "        if tail[1] != head[1]:\n",
    "            tail = (tail[0], head[1])\n",
    "    if tail[0] > head[0] + 1:\n",
    "        tail = move_node(tail, (-1, 0))\n",
    "        if tail[1] != head[1]:\n",
    "            tail = (tail[0], head[1])\n",
    "    if tail[1] < head[1] - 1:\n",
    "        tail = move_node(tail, (0, 1))\n",
    "        if tail[0] != head[0]:\n",
    "            tail = (head[0], tail[1])\n",
    "    if tail[1] > head[1] + 1:\n",
    "        tail = move_node(tail, (0, -1))\n",
    "        if tail[0] != head[0]:\n",
    "            tail = (head[0], tail[1])\n",
    "    \n",
    "    return head, tail\n",
    "\n",
    "def update_tail2(head, tail):\n",
    "    if tail[0] < head[0] - 1:\n",
    "        tail = (head[0]-1, tail[1])\n",
    "        if tail[1] != head[1]:\n",
    "            tail = (tail[0], head[1])\n",
    "    if tail[0] > head[0] + 1:\n",
    "        tail = (head[0]+1, tail[1])\n",
    "        if tail[1] != head[1]:\n",
    "            tail = (tail[0], head[1])\n",
    "    if tail[1] < head[1] - 1:\n",
    "        tail = (tail[0], head[1]-1)\n",
    "        if tail[0] != head[0]:\n",
    "            tail = (head[0], tail[1])\n",
    "    if tail[1] > head[1] + 1:\n",
    "        tail = (tail[0], head[1]+1)\n",
    "        if tail[0] != head[0]:\n",
    "            tail = (head[0], tail[1])\n",
    "    \n",
    "    return head, tail\n",
    "\n",
    "def distance(node1, node2):\n",
    "    return max([abs(node1[0] - node2[0]), abs(node1[1] - node2[1])])\n",
    "\n",
    "def update_tail3(head, tail):\n",
    "    i = 0\n",
    "    while distance(head, tail) > 1:\n",
    "        i += 1\n",
    "        head, tail = step(head, tail)\n",
    "    \n",
    "    return head, tail\n",
    "\n",
    "def step(head, tail):\n",
    "    # Not moving\n",
    "    if distance(head, tail) <= 1:\n",
    "        return head, tail\n",
    "    \n",
    "    # Moving straight:\n",
    "    if tail[0] == head[0]:\n",
    "        if tail[1] < head[1] - 1:\n",
    "            tail = (tail[0], head[1] - 1)\n",
    "        if tail[1] > head[1] + 1:\n",
    "            tail = (tail[0], head[1] + 1)\n",
    "    elif tail[1] == head[1]:\n",
    "        if tail[0] < head[0] - 1:\n",
    "            tail = (head[0] - 1, tail[1])\n",
    "        if tail[0] > head[0]:\n",
    "            tail = (head[0] + 1, tail[1])\n",
    "    # Moving diagonally\n",
    "    else:\n",
    "        xdir = 0\n",
    "        ydir = 1\n",
    "        if tail[0] < head[0]:\n",
    "            xdir = 1\n",
    "        else:\n",
    "            xdir = -1\n",
    "        if tail[1] < head[1]:\n",
    "            ydir = 1\n",
    "        else:\n",
    "            ydir = -1\n",
    "        tail = (tail[0] + xdir, tail[1] + ydir)\n",
    "    \n",
    "    return head, tail\n",
    "\n",
    "head = (0, 0)\n",
    "tail = (0, 0)\n",
    "\n",
    "visited = set([tail])\n",
    "\n",
    "for (direction, nr_updates) in moves:\n",
    "    for _ in range(nr_updates):\n",
    "        head = update_head(head, direction)\n",
    "        head, tail = update_tail3(head, tail)\n",
    "        visited.add(tail)"
   ]
  },
  {
   "cell_type": "code",
   "execution_count": 157,
   "id": "b4e91945",
   "metadata": {},
   "outputs": [
    {
     "data": {
      "text/plain": [
       "5930"
      ]
     },
     "execution_count": 157,
     "metadata": {},
     "output_type": "execute_result"
    }
   ],
   "source": [
    "# 5930\n",
    "len(visited)"
   ]
  },
  {
   "cell_type": "code",
   "execution_count": null,
   "id": "5c998cc8",
   "metadata": {},
   "outputs": [],
   "source": []
  },
  {
   "cell_type": "markdown",
   "id": "7163ddc6",
   "metadata": {},
   "source": [
    "# Part 2"
   ]
  },
  {
   "cell_type": "code",
   "execution_count": 161,
   "id": "710e0e0b",
   "metadata": {},
   "outputs": [],
   "source": [
    "def print_rope(rope):\n",
    "    minx = min([x for x, y in rope])\n",
    "    maxx = max([x for x, y in rope])\n",
    "    miny = min([y for x, y in rope])\n",
    "    maxy = max([y for x, y in rope])\n",
    "    \n",
    "    line = ['.'] * (maxx - minx + 1)\n",
    "    lines = [list(line) for _ in range(maxy - miny + 1)]\n",
    "    \n",
    "    for x, y in rope:\n",
    "        lines[y - miny][x - minx] = '#'\n",
    "    \n",
    "    for line in lines:\n",
    "        print(''.join(line))\n",
    "\n",
    "rope = [(0, 0)] * 10\n",
    "\n",
    "visited = set([rope[-1]])\n",
    "\n",
    "r = False\n",
    "for ii, (direction, nr_updates) in enumerate(moves):\n",
    "    for _ in range(nr_updates):\n",
    "        rope[0] = update_head(rope[0], direction)\n",
    "        for i in range(len(rope)-1):\n",
    "            (rope[i], rope[i+1]) = update_tail3(rope[i], rope[i+1])\n",
    "        visited.add(rope[-1])\n"
   ]
  },
  {
   "cell_type": "code",
   "execution_count": 162,
   "id": "fbb0970c",
   "metadata": {},
   "outputs": [
    {
     "data": {
      "text/plain": [
       "2443"
      ]
     },
     "execution_count": 162,
     "metadata": {},
     "output_type": "execute_result"
    }
   ],
   "source": [
    "len(visited)"
   ]
  },
  {
   "cell_type": "code",
   "execution_count": null,
   "id": "5bd53142",
   "metadata": {},
   "outputs": [],
   "source": []
  },
  {
   "cell_type": "code",
   "execution_count": null,
   "id": "82fdd589",
   "metadata": {},
   "outputs": [],
   "source": []
  }
 ],
 "metadata": {
  "kernelspec": {
   "display_name": "Python 3 (ipykernel)",
   "language": "python",
   "name": "python3"
  },
  "language_info": {
   "codemirror_mode": {
    "name": "ipython",
    "version": 3
   },
   "file_extension": ".py",
   "mimetype": "text/x-python",
   "name": "python",
   "nbconvert_exporter": "python",
   "pygments_lexer": "ipython3",
   "version": "3.9.13"
  }
 },
 "nbformat": 4,
 "nbformat_minor": 5
}
