{
 "cells": [
  {
   "cell_type": "code",
   "execution_count": 1,
   "id": "bb735b36",
   "metadata": {},
   "outputs": [],
   "source": [
    "from aoc import read_file"
   ]
  },
  {
   "cell_type": "code",
   "execution_count": 30,
   "id": "7e1aa6f5",
   "metadata": {},
   "outputs": [],
   "source": [
    "lines = read_file('20221206.txt').split('\\n')"
   ]
  },
  {
   "cell_type": "code",
   "execution_count": null,
   "id": "9d00b3f7",
   "metadata": {},
   "outputs": [],
   "source": []
  },
  {
   "cell_type": "code",
   "execution_count": 39,
   "id": "be75dc5e",
   "metadata": {},
   "outputs": [
    {
     "name": "stdout",
     "output_type": "stream",
     "text": [
      "1651\n"
     ]
    }
   ],
   "source": [
    "from collections import deque\n",
    "\n",
    "for line in lines:\n",
    "    q = deque()\n",
    "    for i, c in enumerate(line):\n",
    "        q.append(c)\n",
    "        if len(set(q)) >= 4:\n",
    "            break\n",
    "        if len(q) >= 4:\n",
    "            c = q.popleft()\n",
    "    print(i+1)"
   ]
  },
  {
   "cell_type": "code",
   "execution_count": 41,
   "id": "b4e91945",
   "metadata": {},
   "outputs": [
    {
     "name": "stdout",
     "output_type": "stream",
     "text": [
      "3837\n"
     ]
    }
   ],
   "source": [
    "for line in lines:\n",
    "    q = deque()\n",
    "    for i, c in enumerate(line):\n",
    "        q.append(c)\n",
    "        if len(set(q)) >= 14:\n",
    "            break\n",
    "        if len(q) >= 14:\n",
    "            c = q.popleft()\n",
    "    print(i+1)"
   ]
  },
  {
   "cell_type": "code",
   "execution_count": null,
   "id": "1c4b98b3",
   "metadata": {},
   "outputs": [],
   "source": [
    "1651\n",
    "3837"
   ]
  },
  {
   "cell_type": "code",
   "execution_count": null,
   "id": "77e82291",
   "metadata": {},
   "outputs": [],
   "source": []
  }
 ],
 "metadata": {
  "kernelspec": {
   "display_name": "Python 3 (ipykernel)",
   "language": "python",
   "name": "python3"
  },
  "language_info": {
   "codemirror_mode": {
    "name": "ipython",
    "version": 3
   },
   "file_extension": ".py",
   "mimetype": "text/x-python",
   "name": "python",
   "nbconvert_exporter": "python",
   "pygments_lexer": "ipython3",
   "version": "3.9.13"
  }
 },
 "nbformat": 4,
 "nbformat_minor": 5
}
